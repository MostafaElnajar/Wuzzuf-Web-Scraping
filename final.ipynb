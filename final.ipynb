{
 "cells": [
  {
   "cell_type": "code",
   "execution_count": 1,
   "id": "5d6776ad",
   "metadata": {
    "id": "5d6776ad"
   },
   "outputs": [],
   "source": [
    "from bs4 import BeautifulSoup\n",
    "import requests\n",
    "import warnings\n",
    "from urllib.request import urlopen\n",
    "warnings.filterwarnings(\"ignore\")\n",
    "import random\n",
    "import time\n",
    "time.sleep(random.randint(5,16))\n",
    "import pandas as pd"
   ]
  },
  {
   "cell_type": "code",
   "execution_count": 2,
   "id": "d9200bc7",
   "metadata": {
    "id": "d9200bc7"
   },
   "outputs": [],
   "source": [
    "def get_pages_link(page_no):\n",
    "    links = []\n",
    "    for x in range(page_no):\n",
    "        var = \"https://wuzzuf.net/search/jobs/?a=hpb&q=Data%20analysis%20jobs&start=\"+str(x)\n",
    "        links.append(var)\n",
    "    return list(links)"
   ]
  },
  {
   "cell_type": "code",
   "execution_count": 3,
   "id": "4ac380e9",
   "metadata": {
    "id": "4ac380e9"
   },
   "outputs": [],
   "source": [
    "jobtitle = []\n",
    "companyn = []\n",
    "ci = []\n",
    "tim = []\n",
    "joblink = []\n",
    "requierd_Skills = []\n",
    "comlink = []\n",
    "\n",
    "\n",
    "    \n",
    "def da(link):\n",
    "    data    = requests.get(link).text\n",
    "    soup    = BeautifulSoup(data)  \n",
    "    con  = soup.find_all(\"div\",{\"class\": \"css-1gatmva e1v1l3u10\"})\n",
    " \n",
    "    for c in con:\n",
    "        \n",
    "        \n",
    "        jt = c.findAll(\"h2\",{\"class\":\"css-m604qf\"})\n",
    "        jobt = jt[0].text.strip()\n",
    "        jobtitle.append(jobt)\n",
    "        \n",
    "        \n",
    "        com = c.findAll(\"a\",{\"class\":\"css-17s97q8\"})\n",
    "        comp = com[0].text.replace('-','').strip()\n",
    "        companyn.append(comp)\n",
    "\n",
    "        \n",
    "        cit = c.findAll(\"span\",{\"class\":\"css-5wys0k\"})\n",
    "        city = cit[0].text.strip()\n",
    "        ci.append(city)\n",
    "        \n",
    "        Skills_requierd=c.find_all('div',{'class':None})\n",
    "        s = Skills_requierd[0].text.strip()\n",
    "        requierd_Skills.append(s)\n",
    "\n",
    "        \n",
    "        ti = c.findAll(\"span\",{\"class\":\"css-1ve4b75 eoyjyou0\"})\n",
    "        time = ti[0].text.strip()\n",
    "        tim.append(time)\n",
    "        \n",
    "             \n",
    "        ln = c.findAll(\"h2\",{\"class\":\"css-m604qf\"})\n",
    "        lin = ln[0].find('a')['href'].replace(' ','%20')\n",
    "        joblink.append(\"https://wuzzuf.net\"+lin)\n",
    "\n",
    "\n",
    "\n",
    "        try:\n",
    "          ln = c.findAll(\"div\",{\"class\":\"css-pkv5jc\"})\n",
    "          lin = ln[0].find('a')['href'].replace(' ','%20')\n",
    "          comlink.append(lin)\n",
    "\n",
    "        except:\n",
    "          comlink.append(\"The Company link not Found!\")\n",
    "\n",
    "   \n",
    "       \n",
    "        \n"
   ]
  },
  {
   "cell_type": "code",
   "execution_count": 4,
   "id": "29818a24",
   "metadata": {
    "id": "29818a24"
   },
   "outputs": [],
   "source": [
    "links = get_pages_link(3)\n",
    "for link in links:\n",
    "    da(link)"
   ]
  },
  {
   "cell_type": "markdown",
   "id": "C5zkNctpX9-V",
   "metadata": {
    "id": "C5zkNctpX9-V"
   },
   "source": [
    "### Description from job page"
   ]
  },
  {
   "cell_type": "code",
   "execution_count": 5,
   "id": "rwrBUrWdxQv0",
   "metadata": {
    "id": "rwrBUrWdxQv0"
   },
   "outputs": [],
   "source": [
    "up = []\n",
    "for l in joblink:\n",
    "    try:\n",
    "\n",
    "      client = urlopen(l)\n",
    "      html = client.read()\n",
    "      client.close()\n",
    "      soup = BeautifulSoup(html, \"html.parser\")\n",
    "      jd = soup.find('div', {'class' : 'css-1uobp1k'}).find('ul')\n",
    "      add = \"\"\n",
    "      for li in jd.find_all('li'):\n",
    "          add += li.text+'• '\n",
    "      up.append(add)    \n",
    "    except:\n",
    "      up.append(\"Not found the Description block in the page, It may be in other place!\")"
   ]
  },
  {
   "cell_type": "markdown",
   "id": "5a6ed1e2",
   "metadata": {
    "id": "bd4e8ecd"
   },
   "source": [
    "### Description from Company page"
   ]
  },
  {
   "cell_type": "code",
   "execution_count": 7,
   "id": "buVakcL58Zff",
   "metadata": {
    "id": "buVakcL58Zff"
   },
   "outputs": [],
   "source": [
    "logo = []\n",
    "for cl in comlink:\n",
    "  try:\n",
    "    url2 = cl\n",
    "    client2 = urlopen(url2)\n",
    "    html = client2.read()\n",
    "    client2.close()\n",
    "    soup = BeautifulSoup(html, \"html.parser\")\n",
    "    lo = soup.find('div',attrs={'class':'css-179t5g5'}).find('img',attrs={'class':'css-qldhfy'})['src']\n",
    "    logo.append(lo)\n",
    "  except:\n",
    "    logo.append(\"Not found the Logo in the page, It might be without a logo!\")\n",
    "   "
   ]
  },
  {
   "cell_type": "code",
   "execution_count": null,
   "id": "3755087d",
   "metadata": {
    "id": "3755087d"
   },
   "outputs": [],
   "source": []
  },
  {
   "cell_type": "code",
   "execution_count": 8,
   "id": "dh7NerrX7tUT",
   "metadata": {
    "id": "dh7NerrX7tUT"
   },
   "outputs": [],
   "source": [
    "data=pd.DataFrame({\"Job Title\": jobtitle,\"Company\": companyn, \"locations\": ci, \"Requierd Skills\":requierd_Skills,\"type\": tim,\"Job link\":joblink, \"Job Descripttion\":up,\"Logo \": logo, \"Company link \": comlink })"
   ]
  },
  {
   "cell_type": "code",
   "execution_count": 10,
   "id": "G1gc7gSL8ZZG",
   "metadata": {
    "id": "G1gc7gSL8ZZG"
   },
   "outputs": [],
   "source": [
    "data.to_csv(\"Wuzzaf.csv\")"
   ]
  },
  {
   "cell_type": "code",
   "execution_count": 84,
   "id": "19151ae9",
   "metadata": {},
   "outputs": [
    {
     "data": {
      "text/html": [
       "<div>\n",
       "<style scoped>\n",
       "    .dataframe tbody tr th:only-of-type {\n",
       "        vertical-align: middle;\n",
       "    }\n",
       "\n",
       "    .dataframe tbody tr th {\n",
       "        vertical-align: top;\n",
       "    }\n",
       "\n",
       "    .dataframe thead th {\n",
       "        text-align: right;\n",
       "    }\n",
       "</style>\n",
       "<table border=\"1\" class=\"dataframe\">\n",
       "  <thead>\n",
       "    <tr style=\"text-align: right;\">\n",
       "      <th></th>\n",
       "      <th>Job Title</th>\n",
       "      <th>Company</th>\n",
       "      <th>locations</th>\n",
       "      <th>Requierd Skills</th>\n",
       "      <th>type</th>\n",
       "      <th>Job link</th>\n",
       "      <th>Job Descripttion</th>\n",
       "      <th>Logo</th>\n",
       "      <th>Company link</th>\n",
       "    </tr>\n",
       "  </thead>\n",
       "  <tbody>\n",
       "    <tr>\n",
       "      <th>0</th>\n",
       "      <td>Data Analyst</td>\n",
       "      <td>Gomla Market</td>\n",
       "      <td>Ameria, Alexandria, Egypt</td>\n",
       "      <td>Entry Level · 1 - 2 Yrs of Exp · Business Deve...</td>\n",
       "      <td>Full Time</td>\n",
       "      <td>https://wuzzuf.net/jobs/p/lGTaAJcRIwbm-Data-An...</td>\n",
       "      <td>Using statistical tools to identify, analyze, ...</td>\n",
       "      <td>https://images.wuzzuf-data.net/files/company_l...</td>\n",
       "      <td>https://wuzzuf.net/jobs/careers/Gomla-Market-E...</td>\n",
       "    </tr>\n",
       "    <tr>\n",
       "      <th>1</th>\n",
       "      <td>Data Scientist Manager</td>\n",
       "      <td>Tamweely</td>\n",
       "      <td>Shubra, Cairo, Egypt</td>\n",
       "      <td>Manager · 7 - 10 Yrs of Exp · IT/Software Deve...</td>\n",
       "      <td>Full Time</td>\n",
       "      <td>https://wuzzuf.net/jobs/p/2pF5Y3Tq2cjq-Data-Sc...</td>\n",
       "      <td>Strong abilities in Identifying and analyzing ...</td>\n",
       "      <td>https://images.wuzzuf-data.net/files/company_l...</td>\n",
       "      <td>https://wuzzuf.net/jobs/careers/Tamweely-Egypt...</td>\n",
       "    </tr>\n",
       "    <tr>\n",
       "      <th>2</th>\n",
       "      <td>Senior Data Analyst - Cairo</td>\n",
       "      <td>Confidential</td>\n",
       "      <td>Cairo, Egypt</td>\n",
       "      <td>Experienced · 5 - 9 Yrs of Exp · IT/Software D...</td>\n",
       "      <td>Full Time</td>\n",
       "      <td>https://wuzzuf.net/jobs/p/R7KdIv7dCm0z-Senior-...</td>\n",
       "      <td>1. Responsible for preparing and analyzing dat...</td>\n",
       "      <td>Not found the Logo in the page, It might be wi...</td>\n",
       "      <td>The Company link not Found!</td>\n",
       "    </tr>\n",
       "    <tr>\n",
       "      <th>3</th>\n",
       "      <td>Data Analyst</td>\n",
       "      <td>Hands of Hope Physical Therapy &amp; Wellness</td>\n",
       "      <td>Maadi, Cairo, Egypt</td>\n",
       "      <td>Experienced · 3 - 18 Yrs of Exp · IT/Software ...</td>\n",
       "      <td>Full Time</td>\n",
       "      <td>https://wuzzuf.net/jobs/p/9AAaTU2msaG5-Data-An...</td>\n",
       "      <td>Track, collect, and interpret data, then analy...</td>\n",
       "      <td>https://images.wuzzuf-data.net/files/company_l...</td>\n",
       "      <td>https://wuzzuf.net/jobs/careers/Hands%20of%20H...</td>\n",
       "    </tr>\n",
       "    <tr>\n",
       "      <th>4</th>\n",
       "      <td>Data Analyst</td>\n",
       "      <td>Gila Electric</td>\n",
       "      <td>New Cairo, Cairo, Egypt</td>\n",
       "      <td>Experienced · 2 - 4 Yrs of Exp · Accounting/Fi...</td>\n",
       "      <td>Full Time</td>\n",
       "      <td>https://wuzzuf.net/jobs/p/adeG14H7rqQA-Data-An...</td>\n",
       "      <td>Interpret data, analyze results using statisti...</td>\n",
       "      <td>https://images.wuzzuf-data.net/files/company_l...</td>\n",
       "      <td>https://wuzzuf.net/jobs/careers/Gila-Electric-...</td>\n",
       "    </tr>\n",
       "    <tr>\n",
       "      <th>...</th>\n",
       "      <td>...</td>\n",
       "      <td>...</td>\n",
       "      <td>...</td>\n",
       "      <td>...</td>\n",
       "      <td>...</td>\n",
       "      <td>...</td>\n",
       "      <td>...</td>\n",
       "      <td>...</td>\n",
       "      <td>...</td>\n",
       "    </tr>\n",
       "    <tr>\n",
       "      <th>675</th>\n",
       "      <td>Human Resources Manager</td>\n",
       "      <td>EL Mohandess Press</td>\n",
       "      <td>10th of Ramadan City, Sharqia, Egypt</td>\n",
       "      <td>Manager · 15 - 20 Yrs of Exp · Human Resources...</td>\n",
       "      <td>Full Time</td>\n",
       "      <td>https://wuzzuf.net/jobs/p/rAC4Mn4ggsNh-Human-R...</td>\n",
       "      <td>Develop the organizational human resources str...</td>\n",
       "      <td>https://images.wuzzuf-data.net/files/company_l...</td>\n",
       "      <td>https://wuzzuf.net/jobs/careers/EL-Mohandess-P...</td>\n",
       "    </tr>\n",
       "    <tr>\n",
       "      <th>676</th>\n",
       "      <td>HRIS Executive / Supervisor</td>\n",
       "      <td>Arma Non Food</td>\n",
       "      <td>Heliopolis, Cairo, Egypt</td>\n",
       "      <td>Experienced · 2 - 5 Yrs of Exp · Human Resourc...</td>\n",
       "      <td>Full Time</td>\n",
       "      <td>https://wuzzuf.net/jobs/p/bLAk1JsPpCFZ-HRIS-Ex...</td>\n",
       "      <td>Responsible for providing vision, leadership, ...</td>\n",
       "      <td>https://images.wuzzuf-data.net/files/company_l...</td>\n",
       "      <td>https://wuzzuf.net/jobs/careers/Arma-Food-Indu...</td>\n",
       "    </tr>\n",
       "    <tr>\n",
       "      <th>677</th>\n",
       "      <td>Product Manager</td>\n",
       "      <td>Troylab</td>\n",
       "      <td>Giza, Egypt</td>\n",
       "      <td>Manager · 3 - 5 Yrs of Exp · IT/Software Devel...</td>\n",
       "      <td>Full Time</td>\n",
       "      <td>https://wuzzuf.net/jobs/p/Ab5Gt480t25b-Product...</td>\n",
       "      <td>Not found the Description block in the page, I...</td>\n",
       "      <td>https://images.wuzzuf-data.net/files/company_l...</td>\n",
       "      <td>https://wuzzuf.net/jobs/careers/Troylab-Egypt-...</td>\n",
       "    </tr>\n",
       "    <tr>\n",
       "      <th>678</th>\n",
       "      <td>Sales Operations Executive</td>\n",
       "      <td>Somabay</td>\n",
       "      <td>Sheikh Zayed, Giza, Egypt</td>\n",
       "      <td>Entry Level · 1 - 3 Yrs of Exp · Business Deve...</td>\n",
       "      <td>Full Time</td>\n",
       "      <td>https://wuzzuf.net/jobs/p/YxZzYgrwXYTS-Sales-O...</td>\n",
       "      <td>Gathers sales data and conduct an analysis of ...</td>\n",
       "      <td>https://images.wuzzuf-data.net/files/company_l...</td>\n",
       "      <td>https://wuzzuf.net/jobs/careers/Somabay-Egypt-...</td>\n",
       "    </tr>\n",
       "    <tr>\n",
       "      <th>679</th>\n",
       "      <td>Call Center Supervisor</td>\n",
       "      <td>Ulemt</td>\n",
       "      <td>New Cairo, Cairo, Egypt</td>\n",
       "      <td>Experienced · 2 - 4 Yrs of Exp · males_only · ...</td>\n",
       "      <td>Full Time</td>\n",
       "      <td>https://wuzzuf.net/jobs/p/tGZfhbEowm6F-Call-Ce...</td>\n",
       "      <td>Reporting to the Operations/Service Delivery M...</td>\n",
       "      <td>https://images.wuzzuf-data.net/files/company_l...</td>\n",
       "      <td>https://wuzzuf.net/jobs/careers/Ulemt-Egypt-21777</td>\n",
       "    </tr>\n",
       "  </tbody>\n",
       "</table>\n",
       "<p>680 rows × 9 columns</p>\n",
       "</div>"
      ],
      "text/plain": [
       "                       Job Title                                    Company  \\\n",
       "0                   Data Analyst                               Gomla Market   \n",
       "1         Data Scientist Manager                                   Tamweely   \n",
       "2    Senior Data Analyst - Cairo                               Confidential   \n",
       "3                   Data Analyst  Hands of Hope Physical Therapy & Wellness   \n",
       "4                   Data Analyst                              Gila Electric   \n",
       "..                           ...                                        ...   \n",
       "675      Human Resources Manager                         EL Mohandess Press   \n",
       "676  HRIS Executive / Supervisor                              Arma Non Food   \n",
       "677              Product Manager                                    Troylab   \n",
       "678   Sales Operations Executive                                    Somabay   \n",
       "679       Call Center Supervisor                                      Ulemt   \n",
       "\n",
       "                                locations  \\\n",
       "0               Ameria, Alexandria, Egypt   \n",
       "1                    Shubra, Cairo, Egypt   \n",
       "2                            Cairo, Egypt   \n",
       "3                     Maadi, Cairo, Egypt   \n",
       "4                 New Cairo, Cairo, Egypt   \n",
       "..                                    ...   \n",
       "675  10th of Ramadan City, Sharqia, Egypt   \n",
       "676              Heliopolis, Cairo, Egypt   \n",
       "677                           Giza, Egypt   \n",
       "678             Sheikh Zayed, Giza, Egypt   \n",
       "679               New Cairo, Cairo, Egypt   \n",
       "\n",
       "                                       Requierd Skills       type  \\\n",
       "0    Entry Level · 1 - 2 Yrs of Exp · Business Deve...  Full Time   \n",
       "1    Manager · 7 - 10 Yrs of Exp · IT/Software Deve...  Full Time   \n",
       "2    Experienced · 5 - 9 Yrs of Exp · IT/Software D...  Full Time   \n",
       "3    Experienced · 3 - 18 Yrs of Exp · IT/Software ...  Full Time   \n",
       "4    Experienced · 2 - 4 Yrs of Exp · Accounting/Fi...  Full Time   \n",
       "..                                                 ...        ...   \n",
       "675  Manager · 15 - 20 Yrs of Exp · Human Resources...  Full Time   \n",
       "676  Experienced · 2 - 5 Yrs of Exp · Human Resourc...  Full Time   \n",
       "677  Manager · 3 - 5 Yrs of Exp · IT/Software Devel...  Full Time   \n",
       "678  Entry Level · 1 - 3 Yrs of Exp · Business Deve...  Full Time   \n",
       "679  Experienced · 2 - 4 Yrs of Exp · males_only · ...  Full Time   \n",
       "\n",
       "                                              Job link  \\\n",
       "0    https://wuzzuf.net/jobs/p/lGTaAJcRIwbm-Data-An...   \n",
       "1    https://wuzzuf.net/jobs/p/2pF5Y3Tq2cjq-Data-Sc...   \n",
       "2    https://wuzzuf.net/jobs/p/R7KdIv7dCm0z-Senior-...   \n",
       "3    https://wuzzuf.net/jobs/p/9AAaTU2msaG5-Data-An...   \n",
       "4    https://wuzzuf.net/jobs/p/adeG14H7rqQA-Data-An...   \n",
       "..                                                 ...   \n",
       "675  https://wuzzuf.net/jobs/p/rAC4Mn4ggsNh-Human-R...   \n",
       "676  https://wuzzuf.net/jobs/p/bLAk1JsPpCFZ-HRIS-Ex...   \n",
       "677  https://wuzzuf.net/jobs/p/Ab5Gt480t25b-Product...   \n",
       "678  https://wuzzuf.net/jobs/p/YxZzYgrwXYTS-Sales-O...   \n",
       "679  https://wuzzuf.net/jobs/p/tGZfhbEowm6F-Call-Ce...   \n",
       "\n",
       "                                      Job Descripttion  \\\n",
       "0    Using statistical tools to identify, analyze, ...   \n",
       "1    Strong abilities in Identifying and analyzing ...   \n",
       "2    1. Responsible for preparing and analyzing dat...   \n",
       "3    Track, collect, and interpret data, then analy...   \n",
       "4    Interpret data, analyze results using statisti...   \n",
       "..                                                 ...   \n",
       "675  Develop the organizational human resources str...   \n",
       "676  Responsible for providing vision, leadership, ...   \n",
       "677  Not found the Description block in the page, I...   \n",
       "678  Gathers sales data and conduct an analysis of ...   \n",
       "679  Reporting to the Operations/Service Delivery M...   \n",
       "\n",
       "                                                 Logo   \\\n",
       "0    https://images.wuzzuf-data.net/files/company_l...   \n",
       "1    https://images.wuzzuf-data.net/files/company_l...   \n",
       "2    Not found the Logo in the page, It might be wi...   \n",
       "3    https://images.wuzzuf-data.net/files/company_l...   \n",
       "4    https://images.wuzzuf-data.net/files/company_l...   \n",
       "..                                                 ...   \n",
       "675  https://images.wuzzuf-data.net/files/company_l...   \n",
       "676  https://images.wuzzuf-data.net/files/company_l...   \n",
       "677  https://images.wuzzuf-data.net/files/company_l...   \n",
       "678  https://images.wuzzuf-data.net/files/company_l...   \n",
       "679  https://images.wuzzuf-data.net/files/company_l...   \n",
       "\n",
       "                                         Company link   \n",
       "0    https://wuzzuf.net/jobs/careers/Gomla-Market-E...  \n",
       "1    https://wuzzuf.net/jobs/careers/Tamweely-Egypt...  \n",
       "2                          The Company link not Found!  \n",
       "3    https://wuzzuf.net/jobs/careers/Hands%20of%20H...  \n",
       "4    https://wuzzuf.net/jobs/careers/Gila-Electric-...  \n",
       "..                                                 ...  \n",
       "675  https://wuzzuf.net/jobs/careers/EL-Mohandess-P...  \n",
       "676  https://wuzzuf.net/jobs/careers/Arma-Food-Indu...  \n",
       "677  https://wuzzuf.net/jobs/careers/Troylab-Egypt-...  \n",
       "678  https://wuzzuf.net/jobs/careers/Somabay-Egypt-...  \n",
       "679  https://wuzzuf.net/jobs/careers/Ulemt-Egypt-21777  \n",
       "\n",
       "[680 rows x 9 columns]"
      ]
     },
     "execution_count": 84,
     "metadata": {},
     "output_type": "execute_result"
    }
   ],
   "source": [
    "data"
   ]
  },
  {
   "cell_type": "code",
   "execution_count": null,
   "id": "pfXWhHOM8Zcd",
   "metadata": {
    "id": "pfXWhHOM8Zcd"
   },
   "outputs": [],
   "source": []
  },
  {
   "cell_type": "code",
   "execution_count": 12,
   "id": "syUfruJzygwm",
   "metadata": {
    "colab": {
     "base_uri": "https://localhost:8080/",
     "height": 17
    },
    "id": "syUfruJzygwm",
    "outputId": "4491fc5f-6dda-4748-9428-b123adda31fb"
   },
   "outputs": [
    {
     "data": {
      "text/html": [
       "        <script type=\"text/javascript\">\n",
       "        window.PlotlyConfig = {MathJaxConfig: 'local'};\n",
       "        if (window.MathJax && window.MathJax.Hub && window.MathJax.Hub.Config) {window.MathJax.Hub.Config({SVG: {font: \"STIX-Web\"}});}\n",
       "        if (typeof require !== 'undefined') {\n",
       "        require.undef(\"plotly\");\n",
       "        requirejs.config({\n",
       "            paths: {\n",
       "                'plotly': ['https://cdn.plot.ly/plotly-2.14.0.min']\n",
       "            }\n",
       "        });\n",
       "        require(['plotly'], function(Plotly) {\n",
       "            window._Plotly = Plotly;\n",
       "        });\n",
       "        }\n",
       "        </script>\n",
       "        "
      ]
     },
     "metadata": {},
     "output_type": "display_data"
    }
   ],
   "source": [
    "import plotly.graph_objs as go \n",
    "from plotly.offline import init_notebook_mode,iplot\n",
    "init_notebook_mode(connected=True)"
   ]
  },
  {
   "cell_type": "code",
   "execution_count": 85,
   "id": "77419b7b",
   "metadata": {},
   "outputs": [],
   "source": [
    "#data['edit'] = data['locations'].str.split(',').apply(lambda x:x[-2])"
   ]
  },
  {
   "cell_type": "code",
   "execution_count": 86,
   "id": "a0b1a91e",
   "metadata": {},
   "outputs": [],
   "source": [
    "#data['edit'] = data['edit'].str.strip(' edit')"
   ]
  },
  {
   "cell_type": "code",
   "execution_count": 87,
   "id": "4d83d70c",
   "metadata": {},
   "outputs": [
    {
     "data": {
      "text/plain": [
       "Cairo         415\n",
       "Giza          164\n",
       "Alexandria     38\n",
       "Sharqia        19\n",
       "Qalubia        12\n",
       "Gharbia         6\n",
       "Riyadh          5\n",
       "Monufya         4\n",
       "Duba            2\n",
       "Suez            2\n",
       "Ismailia        2\n",
       "Port Sa         2\n",
       "Tbilis          1\n",
       "Assiu           1\n",
       "Jeddah          1\n",
       "Dallas          1\n",
       "Damietta        1\n",
       "Red Sea         1\n",
       "Aswan           1\n",
       "Dakahlia        1\n",
       "North Sina      1\n",
       "Name: edit, dtype: int64"
      ]
     },
     "execution_count": 87,
     "metadata": {},
     "output_type": "execute_result"
    }
   ],
   "source": [
    "#data['edit'].value_counts()"
   ]
  },
  {
   "cell_type": "code",
   "execution_count": null,
   "id": "6e78d590",
   "metadata": {},
   "outputs": [],
   "source": []
  },
  {
   "cell_type": "code",
   "execution_count": null,
   "id": "bc08a276",
   "metadata": {},
   "outputs": [],
   "source": []
  },
  {
   "cell_type": "code",
   "execution_count": 72,
   "id": "81e072a5",
   "metadata": {},
   "outputs": [],
   "source": [
    "data['edit'] = data['locations'].str.split(',').apply(lambda x:x[-1])"
   ]
  },
  {
   "cell_type": "code",
   "execution_count": 73,
   "id": "3a4c4483",
   "metadata": {},
   "outputs": [
    {
     "data": {
      "text/plain": [
       " Egypt                   670\n",
       " Saudi Arabia              6\n",
       " United Arab Emirates      2\n",
       " Georgia                   1\n",
       " United States             1\n",
       "Name: edit, dtype: int64"
      ]
     },
     "execution_count": 73,
     "metadata": {},
     "output_type": "execute_result"
    }
   ],
   "source": [
    "data['edit'].value_counts()"
   ]
  },
  {
   "cell_type": "code",
   "execution_count": null,
   "id": "14f4138c",
   "metadata": {},
   "outputs": [],
   "source": []
  },
  {
   "cell_type": "code",
   "execution_count": null,
   "id": "e9a4fe4d",
   "metadata": {},
   "outputs": [],
   "source": []
  },
  {
   "cell_type": "code",
   "execution_count": 74,
   "id": "7bfe0e3c",
   "metadata": {},
   "outputs": [],
   "source": [
    "data = dict(\n",
    "        type = 'choropleth',\n",
    "        colorscale = 'Earth',\n",
    "        reversescale = True,\n",
    "        locations = data['edit'],\n",
    "        locationmode = \"country names\",\n",
    "        z = data['edit'].value_counts(),\n",
    "        text = res['Country'],\n",
    "        colorbar = {'title' : 'Number of Jobs'},\n",
    "      ) \n",
    "\n",
    "layout = dict(title = 'job distribution',\n",
    "                geo = dict(showframe = False,projection = {'type':'stereographic'})\n",
    "             )"
   ]
  },
  {
   "cell_type": "code",
   "execution_count": 75,
   "id": "a317e3a2",
   "metadata": {},
   "outputs": [
    {
     "data": {
      "application/vnd.plotly.v1+json": {
       "config": {
        "linkText": "Export to plot.ly",
        "plotlyServerURL": "https://plot.ly",
        "showLink": false
       },
       "data": [
        {
         "colorbar": {
          "title": {
           "text": "Number of Jobs"
          }
         },
         "colorscale": [
          [
           0,
           "rgb(161, 105, 40)"
          ],
          [
           0.16666666666666666,
           "rgb(189, 146, 90)"
          ],
          [
           0.3333333333333333,
           "rgb(214, 189, 141)"
          ],
          [
           0.5,
           "rgb(237, 234, 194)"
          ],
          [
           0.6666666666666666,
           "rgb(181, 200, 184)"
          ],
          [
           0.8333333333333334,
           "rgb(121, 167, 172)"
          ],
          [
           1,
           "rgb(40, 135, 161)"
          ]
         ],
         "locationmode": "country names",
         "locations": [
          " Egypt",
          " Egypt",
          " Egypt",
          " Egypt",
          " Egypt",
          " Egypt",
          " Egypt",
          " Egypt",
          " Egypt",
          " Egypt",
          " Egypt",
          " Egypt",
          " Egypt",
          " Egypt",
          " Egypt",
          " Egypt",
          " Egypt",
          " Egypt",
          " Egypt",
          " Egypt",
          " Egypt",
          " Egypt",
          " Egypt",
          " Egypt",
          " Egypt",
          " Egypt",
          " Egypt",
          " Egypt",
          " Egypt",
          " Egypt",
          " Egypt",
          " Egypt",
          " Egypt",
          " Egypt",
          " Egypt",
          " Egypt",
          " Egypt",
          " Egypt",
          " Egypt",
          " Egypt",
          " Egypt",
          " Egypt",
          " Egypt",
          " Egypt",
          " Egypt",
          " Saudi Arabia",
          " Egypt",
          " Egypt",
          " Egypt",
          " Egypt",
          " Egypt",
          " Egypt",
          " Egypt",
          " Egypt",
          " Egypt",
          " Egypt",
          " Egypt",
          " Egypt",
          " Egypt",
          " Egypt",
          " Egypt",
          " Egypt",
          " Saudi Arabia",
          " Egypt",
          " Egypt",
          " Egypt",
          " Egypt",
          " Egypt",
          " Egypt",
          " Egypt",
          " Egypt",
          " Egypt",
          " Egypt",
          " Egypt",
          " Egypt",
          " Egypt",
          " Egypt",
          " Egypt",
          " Egypt",
          " Egypt",
          " Egypt",
          " Egypt",
          " Egypt",
          " Egypt",
          " Egypt",
          " Egypt",
          " Egypt",
          " Egypt",
          " Egypt",
          " Egypt",
          " Egypt",
          " Egypt",
          " Egypt",
          " Egypt",
          " Egypt",
          " Egypt",
          " Egypt",
          " Egypt",
          " Egypt",
          " Egypt",
          " Egypt",
          " Egypt",
          " Egypt",
          " Egypt",
          " Egypt",
          " Egypt",
          " Egypt",
          " Egypt",
          " Egypt",
          " Egypt",
          " Egypt",
          " Egypt",
          " Egypt",
          " Egypt",
          " Egypt",
          " Egypt",
          " Egypt",
          " Egypt",
          " Egypt",
          " Egypt",
          " Egypt",
          " Egypt",
          " Egypt",
          " Egypt",
          " Egypt",
          " Egypt",
          " Egypt",
          " Egypt",
          " Egypt",
          " Egypt",
          " Egypt",
          " Egypt",
          " Egypt",
          " Egypt",
          " Egypt",
          " Egypt",
          " Egypt",
          " Egypt",
          " Egypt",
          " Egypt",
          " Egypt",
          " Egypt",
          " Egypt",
          " Egypt",
          " Egypt",
          " Egypt",
          " Egypt",
          " Egypt",
          " Egypt",
          " Egypt",
          " Egypt",
          " Egypt",
          " Egypt",
          " Egypt",
          " Egypt",
          " Egypt",
          " Egypt",
          " Egypt",
          " Egypt",
          " Egypt",
          " Egypt",
          " Egypt",
          " Egypt",
          " Egypt",
          " Egypt",
          " Egypt",
          " Egypt",
          " Egypt",
          " Egypt",
          " Egypt",
          " Egypt",
          " Egypt",
          " Egypt",
          " Egypt",
          " Egypt",
          " Egypt",
          " Egypt",
          " Egypt",
          " Egypt",
          " Egypt",
          " Egypt",
          " Egypt",
          " Egypt",
          " Egypt",
          " Egypt",
          " Egypt",
          " Egypt",
          " Egypt",
          " Egypt",
          " Egypt",
          " Egypt",
          " Egypt",
          " Egypt",
          " Egypt",
          " Egypt",
          " Egypt",
          " Egypt",
          " Egypt",
          " Egypt",
          " Egypt",
          " Egypt",
          " Egypt",
          " Egypt",
          " Egypt",
          " Egypt",
          " Egypt",
          " Egypt",
          " Egypt",
          " Egypt",
          " Egypt",
          " Egypt",
          " Egypt",
          " Egypt",
          " Egypt",
          " Egypt",
          " Egypt",
          " Egypt",
          " Egypt",
          " Egypt",
          " Egypt",
          " Egypt",
          " Egypt",
          " Egypt",
          " Egypt",
          " Egypt",
          " Egypt",
          " Egypt",
          " Egypt",
          " Egypt",
          " Egypt",
          " Egypt",
          " Egypt",
          " Egypt",
          " Egypt",
          " Egypt",
          " Egypt",
          " Egypt",
          " Egypt",
          " Egypt",
          " Egypt",
          " Egypt",
          " Egypt",
          " Egypt",
          " Egypt",
          " Egypt",
          " Egypt",
          " Egypt",
          " Egypt",
          " Egypt",
          " Egypt",
          " Egypt",
          " Egypt",
          " Egypt",
          " Egypt",
          " Egypt",
          " Egypt",
          " Egypt",
          " Egypt",
          " Egypt",
          " Egypt",
          " Egypt",
          " Egypt",
          " Egypt",
          " Egypt",
          " Egypt",
          " Egypt",
          " Egypt",
          " Egypt",
          " Egypt",
          " Egypt",
          " Egypt",
          " Egypt",
          " Egypt",
          " Egypt",
          " Egypt",
          " Egypt",
          " Egypt",
          " Egypt",
          " Egypt",
          " Egypt",
          " Egypt",
          " Egypt",
          " Saudi Arabia",
          " Egypt",
          " Egypt",
          " Egypt",
          " Egypt",
          " Egypt",
          " Egypt",
          " Egypt",
          " Egypt",
          " Egypt",
          " Egypt",
          " Egypt",
          " Egypt",
          " Egypt",
          " Egypt",
          " Egypt",
          " Egypt",
          " Egypt",
          " Egypt",
          " Egypt",
          " Egypt",
          " Egypt",
          " Egypt",
          " Egypt",
          " Egypt",
          " Egypt",
          " Egypt",
          " Egypt",
          " Egypt",
          " Egypt",
          " Egypt",
          " Egypt",
          " Egypt",
          " Egypt",
          " Egypt",
          " Egypt",
          " Egypt",
          " Egypt",
          " Saudi Arabia",
          " Egypt",
          " Egypt",
          " Egypt",
          " Egypt",
          " Egypt",
          " Egypt",
          " Egypt",
          " Egypt",
          " Egypt",
          " United Arab Emirates",
          " Egypt",
          " Egypt",
          " Egypt",
          " Egypt",
          " Egypt",
          " Egypt",
          " Egypt",
          " Egypt",
          " Egypt",
          " Egypt",
          " United Arab Emirates",
          " Egypt",
          " Egypt",
          " Egypt",
          " Egypt",
          " Egypt",
          " Egypt",
          " Egypt",
          " Egypt",
          " Egypt",
          " Egypt",
          " Egypt",
          " Egypt",
          " Egypt",
          " Egypt",
          " Egypt",
          " Egypt",
          " Egypt",
          " Egypt",
          " Egypt",
          " Egypt",
          " Egypt",
          " Egypt",
          " Egypt",
          " Egypt",
          " Egypt",
          " Egypt",
          " Egypt",
          " Egypt",
          " Egypt",
          " Egypt",
          " Georgia",
          " Egypt",
          " Saudi Arabia",
          " Egypt",
          " Egypt",
          " Egypt",
          " Egypt",
          " Egypt",
          " Egypt",
          " Egypt",
          " Egypt",
          " Egypt",
          " Egypt",
          " Egypt",
          " Egypt",
          " Egypt",
          " Egypt",
          " Egypt",
          " Egypt",
          " Egypt",
          " Egypt",
          " Egypt",
          " Egypt",
          " Egypt",
          " Egypt",
          " Egypt",
          " Egypt",
          " Egypt",
          " Egypt",
          " Egypt",
          " Egypt",
          " Egypt",
          " Saudi Arabia",
          " Egypt",
          " Egypt",
          " Egypt",
          " Egypt",
          " Egypt",
          " Egypt",
          " Egypt",
          " Egypt",
          " Egypt",
          " Egypt",
          " Egypt",
          " Egypt",
          " Egypt",
          " Egypt",
          " Egypt",
          " Egypt",
          " Egypt",
          " Egypt",
          " Egypt",
          " Egypt",
          " Egypt",
          " Egypt",
          " Egypt",
          " Egypt",
          " Egypt",
          " Egypt",
          " Egypt",
          " Egypt",
          " Egypt",
          " Egypt",
          " Egypt",
          " Egypt",
          " Egypt",
          " Egypt",
          " Egypt",
          " Egypt",
          " Egypt",
          " Egypt",
          " Egypt",
          " Egypt",
          " Egypt",
          " Egypt",
          " Egypt",
          " Egypt",
          " Egypt",
          " Egypt",
          " Egypt",
          " Egypt",
          " Egypt",
          " Egypt",
          " Egypt",
          " Egypt",
          " Egypt",
          " Egypt",
          " Egypt",
          " Egypt",
          " Egypt",
          " Egypt",
          " Egypt",
          " Egypt",
          " Egypt",
          " Egypt",
          " Egypt",
          " Egypt",
          " Egypt",
          " Egypt",
          " Egypt",
          " Egypt",
          " Egypt",
          " Egypt",
          " Egypt",
          " Egypt",
          " Egypt",
          " Egypt",
          " Egypt",
          " United States",
          " Egypt",
          " Egypt",
          " Egypt",
          " Egypt",
          " Egypt",
          " Egypt",
          " Egypt",
          " Egypt",
          " Egypt",
          " Egypt",
          " Egypt",
          " Egypt",
          " Egypt",
          " Egypt",
          " Egypt",
          " Egypt",
          " Egypt",
          " Egypt",
          " Egypt",
          " Egypt",
          " Egypt",
          " Egypt",
          " Egypt",
          " Egypt",
          " Egypt",
          " Egypt",
          " Egypt",
          " Egypt",
          " Egypt",
          " Egypt",
          " Egypt",
          " Egypt",
          " Egypt",
          " Egypt",
          " Egypt",
          " Egypt",
          " Egypt",
          " Egypt",
          " Egypt",
          " Egypt",
          " Egypt",
          " Egypt",
          " Egypt",
          " Egypt",
          " Egypt",
          " Egypt",
          " Egypt",
          " Egypt",
          " Egypt",
          " Egypt",
          " Egypt",
          " Egypt",
          " Egypt",
          " Egypt",
          " Egypt",
          " Egypt",
          " Egypt",
          " Egypt",
          " Egypt",
          " Egypt",
          " Egypt",
          " Egypt",
          " Egypt",
          " Egypt",
          " Egypt",
          " Egypt",
          " Egypt",
          " Egypt",
          " Egypt",
          " Egypt",
          " Egypt",
          " Egypt",
          " Egypt",
          " Egypt",
          " Egypt",
          " Egypt",
          " Egypt",
          " Egypt",
          " Egypt",
          " Egypt",
          " Egypt",
          " Egypt",
          " Egypt",
          " Egypt",
          " Egypt",
          " Egypt",
          " Egypt",
          " Egypt",
          " Egypt",
          " Egypt",
          " Egypt",
          " Egypt",
          " Egypt",
          " Egypt",
          " Egypt",
          " Egypt",
          " Egypt",
          " Egypt",
          " Egypt",
          " Egypt",
          " Egypt",
          " Egypt",
          " Egypt",
          " Egypt",
          " Egypt",
          " Egypt",
          " Egypt",
          " Egypt",
          " Egypt",
          " Egypt",
          " Egypt",
          " Egypt",
          " Egypt",
          " Egypt",
          " Egypt",
          " Egypt",
          " Egypt",
          " Egypt",
          " Egypt",
          " Egypt",
          " Egypt",
          " Egypt",
          " Egypt",
          " Egypt",
          " Egypt",
          " Egypt",
          " Egypt",
          " Egypt",
          " Egypt",
          " Egypt",
          " Egypt",
          " Egypt",
          " Egypt",
          " Egypt",
          " Egypt",
          " Egypt",
          " Egypt",
          " Egypt",
          " Egypt",
          " Egypt",
          " Egypt",
          " Egypt",
          " Egypt",
          " Egypt",
          " Egypt",
          " Egypt",
          " Egypt",
          " Egypt",
          " Egypt",
          " Egypt",
          " Egypt",
          " Egypt",
          " Egypt",
          " Egypt",
          " Egypt",
          " Egypt",
          " Egypt",
          " Egypt",
          " Egypt",
          " Egypt",
          " Egypt",
          " Egypt",
          " Egypt",
          " Egypt",
          " Egypt",
          " Egypt",
          " Egypt",
          " Egypt",
          " Egypt",
          " Egypt",
          " Egypt",
          " Egypt",
          " Egypt",
          " Egypt",
          " Egypt",
          " Egypt",
          " Egypt",
          " Egypt",
          " Egypt",
          " Egypt",
          " Egypt",
          " Egypt",
          " Egypt",
          " Egypt",
          " Egypt",
          " Egypt",
          " Egypt",
          " Egypt",
          " Egypt",
          " Egypt",
          " Egypt",
          " Egypt",
          " Egypt",
          " Egypt",
          " Egypt",
          " Egypt",
          " Egypt",
          " Egypt",
          " Egypt"
         ],
         "reversescale": true,
         "text": [
          " Egypt",
          " Egypt",
          " Egypt",
          " Egypt",
          " Egypt",
          " Egypt",
          " Egypt",
          " Egypt",
          " Egypt",
          " Egypt",
          " Egypt",
          " Egypt",
          " Egypt",
          " Egypt",
          " Egypt",
          " Egypt",
          " Egypt",
          " Egypt",
          " Egypt",
          " Egypt",
          " Egypt",
          " Egypt",
          " Egypt",
          " Egypt",
          " Egypt",
          " Egypt",
          " Egypt",
          " Egypt",
          " Egypt",
          " Egypt",
          " Egypt",
          " Egypt",
          " Egypt",
          " Egypt",
          " Egypt",
          " Egypt",
          " Egypt",
          " Egypt",
          " Egypt",
          " Egypt",
          " Egypt",
          " Egypt",
          " Egypt",
          " Egypt",
          " Egypt"
         ],
         "type": "choropleth",
         "z": [
          670,
          6,
          2,
          1,
          1
         ]
        }
       ],
       "layout": {
        "geo": {
         "projection": {
          "type": "stereographic"
         },
         "showframe": false
        },
        "template": {
         "data": {
          "bar": [
           {
            "error_x": {
             "color": "#2a3f5f"
            },
            "error_y": {
             "color": "#2a3f5f"
            },
            "marker": {
             "line": {
              "color": "#E5ECF6",
              "width": 0.5
             },
             "pattern": {
              "fillmode": "overlay",
              "size": 10,
              "solidity": 0.2
             }
            },
            "type": "bar"
           }
          ],
          "barpolar": [
           {
            "marker": {
             "line": {
              "color": "#E5ECF6",
              "width": 0.5
             },
             "pattern": {
              "fillmode": "overlay",
              "size": 10,
              "solidity": 0.2
             }
            },
            "type": "barpolar"
           }
          ],
          "carpet": [
           {
            "aaxis": {
             "endlinecolor": "#2a3f5f",
             "gridcolor": "white",
             "linecolor": "white",
             "minorgridcolor": "white",
             "startlinecolor": "#2a3f5f"
            },
            "baxis": {
             "endlinecolor": "#2a3f5f",
             "gridcolor": "white",
             "linecolor": "white",
             "minorgridcolor": "white",
             "startlinecolor": "#2a3f5f"
            },
            "type": "carpet"
           }
          ],
          "choropleth": [
           {
            "colorbar": {
             "outlinewidth": 0,
             "ticks": ""
            },
            "type": "choropleth"
           }
          ],
          "contour": [
           {
            "colorbar": {
             "outlinewidth": 0,
             "ticks": ""
            },
            "colorscale": [
             [
              0,
              "#0d0887"
             ],
             [
              0.1111111111111111,
              "#46039f"
             ],
             [
              0.2222222222222222,
              "#7201a8"
             ],
             [
              0.3333333333333333,
              "#9c179e"
             ],
             [
              0.4444444444444444,
              "#bd3786"
             ],
             [
              0.5555555555555556,
              "#d8576b"
             ],
             [
              0.6666666666666666,
              "#ed7953"
             ],
             [
              0.7777777777777778,
              "#fb9f3a"
             ],
             [
              0.8888888888888888,
              "#fdca26"
             ],
             [
              1,
              "#f0f921"
             ]
            ],
            "type": "contour"
           }
          ],
          "contourcarpet": [
           {
            "colorbar": {
             "outlinewidth": 0,
             "ticks": ""
            },
            "type": "contourcarpet"
           }
          ],
          "heatmap": [
           {
            "colorbar": {
             "outlinewidth": 0,
             "ticks": ""
            },
            "colorscale": [
             [
              0,
              "#0d0887"
             ],
             [
              0.1111111111111111,
              "#46039f"
             ],
             [
              0.2222222222222222,
              "#7201a8"
             ],
             [
              0.3333333333333333,
              "#9c179e"
             ],
             [
              0.4444444444444444,
              "#bd3786"
             ],
             [
              0.5555555555555556,
              "#d8576b"
             ],
             [
              0.6666666666666666,
              "#ed7953"
             ],
             [
              0.7777777777777778,
              "#fb9f3a"
             ],
             [
              0.8888888888888888,
              "#fdca26"
             ],
             [
              1,
              "#f0f921"
             ]
            ],
            "type": "heatmap"
           }
          ],
          "heatmapgl": [
           {
            "colorbar": {
             "outlinewidth": 0,
             "ticks": ""
            },
            "colorscale": [
             [
              0,
              "#0d0887"
             ],
             [
              0.1111111111111111,
              "#46039f"
             ],
             [
              0.2222222222222222,
              "#7201a8"
             ],
             [
              0.3333333333333333,
              "#9c179e"
             ],
             [
              0.4444444444444444,
              "#bd3786"
             ],
             [
              0.5555555555555556,
              "#d8576b"
             ],
             [
              0.6666666666666666,
              "#ed7953"
             ],
             [
              0.7777777777777778,
              "#fb9f3a"
             ],
             [
              0.8888888888888888,
              "#fdca26"
             ],
             [
              1,
              "#f0f921"
             ]
            ],
            "type": "heatmapgl"
           }
          ],
          "histogram": [
           {
            "marker": {
             "pattern": {
              "fillmode": "overlay",
              "size": 10,
              "solidity": 0.2
             }
            },
            "type": "histogram"
           }
          ],
          "histogram2d": [
           {
            "colorbar": {
             "outlinewidth": 0,
             "ticks": ""
            },
            "colorscale": [
             [
              0,
              "#0d0887"
             ],
             [
              0.1111111111111111,
              "#46039f"
             ],
             [
              0.2222222222222222,
              "#7201a8"
             ],
             [
              0.3333333333333333,
              "#9c179e"
             ],
             [
              0.4444444444444444,
              "#bd3786"
             ],
             [
              0.5555555555555556,
              "#d8576b"
             ],
             [
              0.6666666666666666,
              "#ed7953"
             ],
             [
              0.7777777777777778,
              "#fb9f3a"
             ],
             [
              0.8888888888888888,
              "#fdca26"
             ],
             [
              1,
              "#f0f921"
             ]
            ],
            "type": "histogram2d"
           }
          ],
          "histogram2dcontour": [
           {
            "colorbar": {
             "outlinewidth": 0,
             "ticks": ""
            },
            "colorscale": [
             [
              0,
              "#0d0887"
             ],
             [
              0.1111111111111111,
              "#46039f"
             ],
             [
              0.2222222222222222,
              "#7201a8"
             ],
             [
              0.3333333333333333,
              "#9c179e"
             ],
             [
              0.4444444444444444,
              "#bd3786"
             ],
             [
              0.5555555555555556,
              "#d8576b"
             ],
             [
              0.6666666666666666,
              "#ed7953"
             ],
             [
              0.7777777777777778,
              "#fb9f3a"
             ],
             [
              0.8888888888888888,
              "#fdca26"
             ],
             [
              1,
              "#f0f921"
             ]
            ],
            "type": "histogram2dcontour"
           }
          ],
          "mesh3d": [
           {
            "colorbar": {
             "outlinewidth": 0,
             "ticks": ""
            },
            "type": "mesh3d"
           }
          ],
          "parcoords": [
           {
            "line": {
             "colorbar": {
              "outlinewidth": 0,
              "ticks": ""
             }
            },
            "type": "parcoords"
           }
          ],
          "pie": [
           {
            "automargin": true,
            "type": "pie"
           }
          ],
          "scatter": [
           {
            "fillpattern": {
             "fillmode": "overlay",
             "size": 10,
             "solidity": 0.2
            },
            "type": "scatter"
           }
          ],
          "scatter3d": [
           {
            "line": {
             "colorbar": {
              "outlinewidth": 0,
              "ticks": ""
             }
            },
            "marker": {
             "colorbar": {
              "outlinewidth": 0,
              "ticks": ""
             }
            },
            "type": "scatter3d"
           }
          ],
          "scattercarpet": [
           {
            "marker": {
             "colorbar": {
              "outlinewidth": 0,
              "ticks": ""
             }
            },
            "type": "scattercarpet"
           }
          ],
          "scattergeo": [
           {
            "marker": {
             "colorbar": {
              "outlinewidth": 0,
              "ticks": ""
             }
            },
            "type": "scattergeo"
           }
          ],
          "scattergl": [
           {
            "marker": {
             "colorbar": {
              "outlinewidth": 0,
              "ticks": ""
             }
            },
            "type": "scattergl"
           }
          ],
          "scattermapbox": [
           {
            "marker": {
             "colorbar": {
              "outlinewidth": 0,
              "ticks": ""
             }
            },
            "type": "scattermapbox"
           }
          ],
          "scatterpolar": [
           {
            "marker": {
             "colorbar": {
              "outlinewidth": 0,
              "ticks": ""
             }
            },
            "type": "scatterpolar"
           }
          ],
          "scatterpolargl": [
           {
            "marker": {
             "colorbar": {
              "outlinewidth": 0,
              "ticks": ""
             }
            },
            "type": "scatterpolargl"
           }
          ],
          "scatterternary": [
           {
            "marker": {
             "colorbar": {
              "outlinewidth": 0,
              "ticks": ""
             }
            },
            "type": "scatterternary"
           }
          ],
          "surface": [
           {
            "colorbar": {
             "outlinewidth": 0,
             "ticks": ""
            },
            "colorscale": [
             [
              0,
              "#0d0887"
             ],
             [
              0.1111111111111111,
              "#46039f"
             ],
             [
              0.2222222222222222,
              "#7201a8"
             ],
             [
              0.3333333333333333,
              "#9c179e"
             ],
             [
              0.4444444444444444,
              "#bd3786"
             ],
             [
              0.5555555555555556,
              "#d8576b"
             ],
             [
              0.6666666666666666,
              "#ed7953"
             ],
             [
              0.7777777777777778,
              "#fb9f3a"
             ],
             [
              0.8888888888888888,
              "#fdca26"
             ],
             [
              1,
              "#f0f921"
             ]
            ],
            "type": "surface"
           }
          ],
          "table": [
           {
            "cells": {
             "fill": {
              "color": "#EBF0F8"
             },
             "line": {
              "color": "white"
             }
            },
            "header": {
             "fill": {
              "color": "#C8D4E3"
             },
             "line": {
              "color": "white"
             }
            },
            "type": "table"
           }
          ]
         },
         "layout": {
          "annotationdefaults": {
           "arrowcolor": "#2a3f5f",
           "arrowhead": 0,
           "arrowwidth": 1
          },
          "autotypenumbers": "strict",
          "coloraxis": {
           "colorbar": {
            "outlinewidth": 0,
            "ticks": ""
           }
          },
          "colorscale": {
           "diverging": [
            [
             0,
             "#8e0152"
            ],
            [
             0.1,
             "#c51b7d"
            ],
            [
             0.2,
             "#de77ae"
            ],
            [
             0.3,
             "#f1b6da"
            ],
            [
             0.4,
             "#fde0ef"
            ],
            [
             0.5,
             "#f7f7f7"
            ],
            [
             0.6,
             "#e6f5d0"
            ],
            [
             0.7,
             "#b8e186"
            ],
            [
             0.8,
             "#7fbc41"
            ],
            [
             0.9,
             "#4d9221"
            ],
            [
             1,
             "#276419"
            ]
           ],
           "sequential": [
            [
             0,
             "#0d0887"
            ],
            [
             0.1111111111111111,
             "#46039f"
            ],
            [
             0.2222222222222222,
             "#7201a8"
            ],
            [
             0.3333333333333333,
             "#9c179e"
            ],
            [
             0.4444444444444444,
             "#bd3786"
            ],
            [
             0.5555555555555556,
             "#d8576b"
            ],
            [
             0.6666666666666666,
             "#ed7953"
            ],
            [
             0.7777777777777778,
             "#fb9f3a"
            ],
            [
             0.8888888888888888,
             "#fdca26"
            ],
            [
             1,
             "#f0f921"
            ]
           ],
           "sequentialminus": [
            [
             0,
             "#0d0887"
            ],
            [
             0.1111111111111111,
             "#46039f"
            ],
            [
             0.2222222222222222,
             "#7201a8"
            ],
            [
             0.3333333333333333,
             "#9c179e"
            ],
            [
             0.4444444444444444,
             "#bd3786"
            ],
            [
             0.5555555555555556,
             "#d8576b"
            ],
            [
             0.6666666666666666,
             "#ed7953"
            ],
            [
             0.7777777777777778,
             "#fb9f3a"
            ],
            [
             0.8888888888888888,
             "#fdca26"
            ],
            [
             1,
             "#f0f921"
            ]
           ]
          },
          "colorway": [
           "#636efa",
           "#EF553B",
           "#00cc96",
           "#ab63fa",
           "#FFA15A",
           "#19d3f3",
           "#FF6692",
           "#B6E880",
           "#FF97FF",
           "#FECB52"
          ],
          "font": {
           "color": "#2a3f5f"
          },
          "geo": {
           "bgcolor": "white",
           "lakecolor": "white",
           "landcolor": "#E5ECF6",
           "showlakes": true,
           "showland": true,
           "subunitcolor": "white"
          },
          "hoverlabel": {
           "align": "left"
          },
          "hovermode": "closest",
          "mapbox": {
           "style": "light"
          },
          "paper_bgcolor": "white",
          "plot_bgcolor": "#E5ECF6",
          "polar": {
           "angularaxis": {
            "gridcolor": "white",
            "linecolor": "white",
            "ticks": ""
           },
           "bgcolor": "#E5ECF6",
           "radialaxis": {
            "gridcolor": "white",
            "linecolor": "white",
            "ticks": ""
           }
          },
          "scene": {
           "xaxis": {
            "backgroundcolor": "#E5ECF6",
            "gridcolor": "white",
            "gridwidth": 2,
            "linecolor": "white",
            "showbackground": true,
            "ticks": "",
            "zerolinecolor": "white"
           },
           "yaxis": {
            "backgroundcolor": "#E5ECF6",
            "gridcolor": "white",
            "gridwidth": 2,
            "linecolor": "white",
            "showbackground": true,
            "ticks": "",
            "zerolinecolor": "white"
           },
           "zaxis": {
            "backgroundcolor": "#E5ECF6",
            "gridcolor": "white",
            "gridwidth": 2,
            "linecolor": "white",
            "showbackground": true,
            "ticks": "",
            "zerolinecolor": "white"
           }
          },
          "shapedefaults": {
           "line": {
            "color": "#2a3f5f"
           }
          },
          "ternary": {
           "aaxis": {
            "gridcolor": "white",
            "linecolor": "white",
            "ticks": ""
           },
           "baxis": {
            "gridcolor": "white",
            "linecolor": "white",
            "ticks": ""
           },
           "bgcolor": "#E5ECF6",
           "caxis": {
            "gridcolor": "white",
            "linecolor": "white",
            "ticks": ""
           }
          },
          "title": {
           "x": 0.05
          },
          "xaxis": {
           "automargin": true,
           "gridcolor": "white",
           "linecolor": "white",
           "ticks": "",
           "title": {
            "standoff": 15
           },
           "zerolinecolor": "white",
           "zerolinewidth": 2
          },
          "yaxis": {
           "automargin": true,
           "gridcolor": "white",
           "linecolor": "white",
           "ticks": "",
           "title": {
            "standoff": 15
           },
           "zerolinecolor": "white",
           "zerolinewidth": 2
          }
         }
        },
        "title": {
         "text": "job distribution"
        }
       }
      },
      "text/html": [
       "<div>                            <div id=\"14672dda-a2fe-4e20-926a-2cb80ffeca8d\" class=\"plotly-graph-div\" style=\"height:525px; width:100%;\"></div>            <script type=\"text/javascript\">                require([\"plotly\"], function(Plotly) {                    window.PLOTLYENV=window.PLOTLYENV || {};                                    if (document.getElementById(\"14672dda-a2fe-4e20-926a-2cb80ffeca8d\")) {                    Plotly.newPlot(                        \"14672dda-a2fe-4e20-926a-2cb80ffeca8d\",                        [{\"colorbar\":{\"title\":{\"text\":\"Number of Jobs\"}},\"colorscale\":[[0.0,\"rgb(161, 105, 40)\"],[0.16666666666666666,\"rgb(189, 146, 90)\"],[0.3333333333333333,\"rgb(214, 189, 141)\"],[0.5,\"rgb(237, 234, 194)\"],[0.6666666666666666,\"rgb(181, 200, 184)\"],[0.8333333333333334,\"rgb(121, 167, 172)\"],[1.0,\"rgb(40, 135, 161)\"]],\"locationmode\":\"country names\",\"locations\":[\" Egypt\",\" Egypt\",\" Egypt\",\" Egypt\",\" Egypt\",\" Egypt\",\" Egypt\",\" Egypt\",\" Egypt\",\" Egypt\",\" Egypt\",\" Egypt\",\" Egypt\",\" Egypt\",\" Egypt\",\" Egypt\",\" Egypt\",\" Egypt\",\" Egypt\",\" Egypt\",\" Egypt\",\" Egypt\",\" Egypt\",\" Egypt\",\" Egypt\",\" Egypt\",\" Egypt\",\" Egypt\",\" Egypt\",\" Egypt\",\" Egypt\",\" Egypt\",\" Egypt\",\" Egypt\",\" Egypt\",\" Egypt\",\" Egypt\",\" Egypt\",\" Egypt\",\" Egypt\",\" Egypt\",\" Egypt\",\" Egypt\",\" Egypt\",\" Egypt\",\" Saudi Arabia\",\" Egypt\",\" Egypt\",\" Egypt\",\" Egypt\",\" Egypt\",\" Egypt\",\" Egypt\",\" Egypt\",\" Egypt\",\" Egypt\",\" Egypt\",\" Egypt\",\" Egypt\",\" Egypt\",\" Egypt\",\" Egypt\",\" Saudi Arabia\",\" Egypt\",\" Egypt\",\" Egypt\",\" Egypt\",\" Egypt\",\" Egypt\",\" Egypt\",\" Egypt\",\" Egypt\",\" Egypt\",\" Egypt\",\" Egypt\",\" Egypt\",\" Egypt\",\" Egypt\",\" Egypt\",\" Egypt\",\" Egypt\",\" Egypt\",\" Egypt\",\" Egypt\",\" Egypt\",\" Egypt\",\" Egypt\",\" Egypt\",\" Egypt\",\" Egypt\",\" Egypt\",\" Egypt\",\" Egypt\",\" Egypt\",\" Egypt\",\" Egypt\",\" Egypt\",\" Egypt\",\" Egypt\",\" Egypt\",\" Egypt\",\" Egypt\",\" Egypt\",\" Egypt\",\" Egypt\",\" Egypt\",\" Egypt\",\" Egypt\",\" Egypt\",\" Egypt\",\" Egypt\",\" Egypt\",\" Egypt\",\" Egypt\",\" Egypt\",\" Egypt\",\" Egypt\",\" Egypt\",\" Egypt\",\" Egypt\",\" Egypt\",\" Egypt\",\" Egypt\",\" Egypt\",\" Egypt\",\" Egypt\",\" Egypt\",\" Egypt\",\" Egypt\",\" Egypt\",\" Egypt\",\" Egypt\",\" Egypt\",\" Egypt\",\" Egypt\",\" Egypt\",\" Egypt\",\" Egypt\",\" Egypt\",\" Egypt\",\" Egypt\",\" Egypt\",\" Egypt\",\" Egypt\",\" Egypt\",\" Egypt\",\" Egypt\",\" Egypt\",\" Egypt\",\" Egypt\",\" Egypt\",\" Egypt\",\" Egypt\",\" Egypt\",\" Egypt\",\" Egypt\",\" Egypt\",\" Egypt\",\" Egypt\",\" Egypt\",\" Egypt\",\" Egypt\",\" Egypt\",\" Egypt\",\" Egypt\",\" Egypt\",\" Egypt\",\" Egypt\",\" Egypt\",\" Egypt\",\" Egypt\",\" Egypt\",\" Egypt\",\" Egypt\",\" Egypt\",\" Egypt\",\" Egypt\",\" Egypt\",\" Egypt\",\" Egypt\",\" Egypt\",\" Egypt\",\" Egypt\",\" Egypt\",\" Egypt\",\" Egypt\",\" Egypt\",\" Egypt\",\" Egypt\",\" Egypt\",\" Egypt\",\" Egypt\",\" Egypt\",\" Egypt\",\" Egypt\",\" Egypt\",\" Egypt\",\" Egypt\",\" Egypt\",\" Egypt\",\" Egypt\",\" Egypt\",\" Egypt\",\" Egypt\",\" Egypt\",\" Egypt\",\" Egypt\",\" Egypt\",\" Egypt\",\" Egypt\",\" Egypt\",\" Egypt\",\" Egypt\",\" Egypt\",\" Egypt\",\" Egypt\",\" Egypt\",\" Egypt\",\" Egypt\",\" Egypt\",\" Egypt\",\" Egypt\",\" Egypt\",\" Egypt\",\" Egypt\",\" Egypt\",\" Egypt\",\" Egypt\",\" Egypt\",\" Egypt\",\" Egypt\",\" Egypt\",\" Egypt\",\" Egypt\",\" Egypt\",\" Egypt\",\" Egypt\",\" Egypt\",\" Egypt\",\" Egypt\",\" Egypt\",\" Egypt\",\" Egypt\",\" Egypt\",\" Egypt\",\" Egypt\",\" Egypt\",\" Egypt\",\" Egypt\",\" Egypt\",\" Egypt\",\" Egypt\",\" Egypt\",\" Egypt\",\" Egypt\",\" Egypt\",\" Egypt\",\" Egypt\",\" Egypt\",\" Egypt\",\" Egypt\",\" Egypt\",\" Egypt\",\" Egypt\",\" Egypt\",\" Egypt\",\" Egypt\",\" Egypt\",\" Egypt\",\" Egypt\",\" Egypt\",\" Egypt\",\" Egypt\",\" Egypt\",\" Egypt\",\" Egypt\",\" Egypt\",\" Egypt\",\" Egypt\",\" Egypt\",\" Egypt\",\" Egypt\",\" Saudi Arabia\",\" Egypt\",\" Egypt\",\" Egypt\",\" Egypt\",\" Egypt\",\" Egypt\",\" Egypt\",\" Egypt\",\" Egypt\",\" Egypt\",\" Egypt\",\" Egypt\",\" Egypt\",\" Egypt\",\" Egypt\",\" Egypt\",\" Egypt\",\" Egypt\",\" Egypt\",\" Egypt\",\" Egypt\",\" Egypt\",\" Egypt\",\" Egypt\",\" Egypt\",\" Egypt\",\" Egypt\",\" Egypt\",\" Egypt\",\" Egypt\",\" Egypt\",\" Egypt\",\" Egypt\",\" Egypt\",\" Egypt\",\" Egypt\",\" Egypt\",\" Saudi Arabia\",\" Egypt\",\" Egypt\",\" Egypt\",\" Egypt\",\" Egypt\",\" Egypt\",\" Egypt\",\" Egypt\",\" Egypt\",\" United Arab Emirates\",\" Egypt\",\" Egypt\",\" Egypt\",\" Egypt\",\" Egypt\",\" Egypt\",\" Egypt\",\" Egypt\",\" Egypt\",\" Egypt\",\" United Arab Emirates\",\" Egypt\",\" Egypt\",\" Egypt\",\" Egypt\",\" Egypt\",\" Egypt\",\" Egypt\",\" Egypt\",\" Egypt\",\" Egypt\",\" Egypt\",\" Egypt\",\" Egypt\",\" Egypt\",\" Egypt\",\" Egypt\",\" Egypt\",\" Egypt\",\" Egypt\",\" Egypt\",\" Egypt\",\" Egypt\",\" Egypt\",\" Egypt\",\" Egypt\",\" Egypt\",\" Egypt\",\" Egypt\",\" Egypt\",\" Egypt\",\" Georgia\",\" Egypt\",\" Saudi Arabia\",\" Egypt\",\" Egypt\",\" Egypt\",\" Egypt\",\" Egypt\",\" Egypt\",\" Egypt\",\" Egypt\",\" Egypt\",\" Egypt\",\" Egypt\",\" Egypt\",\" Egypt\",\" Egypt\",\" Egypt\",\" Egypt\",\" Egypt\",\" Egypt\",\" Egypt\",\" Egypt\",\" Egypt\",\" Egypt\",\" Egypt\",\" Egypt\",\" Egypt\",\" Egypt\",\" Egypt\",\" Egypt\",\" Egypt\",\" Saudi Arabia\",\" Egypt\",\" Egypt\",\" Egypt\",\" Egypt\",\" Egypt\",\" Egypt\",\" Egypt\",\" Egypt\",\" Egypt\",\" Egypt\",\" Egypt\",\" Egypt\",\" Egypt\",\" Egypt\",\" Egypt\",\" Egypt\",\" Egypt\",\" Egypt\",\" Egypt\",\" Egypt\",\" Egypt\",\" Egypt\",\" Egypt\",\" Egypt\",\" Egypt\",\" Egypt\",\" Egypt\",\" Egypt\",\" Egypt\",\" Egypt\",\" Egypt\",\" Egypt\",\" Egypt\",\" Egypt\",\" Egypt\",\" Egypt\",\" Egypt\",\" Egypt\",\" Egypt\",\" Egypt\",\" Egypt\",\" Egypt\",\" Egypt\",\" Egypt\",\" Egypt\",\" Egypt\",\" Egypt\",\" Egypt\",\" Egypt\",\" Egypt\",\" Egypt\",\" Egypt\",\" Egypt\",\" Egypt\",\" Egypt\",\" Egypt\",\" Egypt\",\" Egypt\",\" Egypt\",\" Egypt\",\" Egypt\",\" Egypt\",\" Egypt\",\" Egypt\",\" Egypt\",\" Egypt\",\" Egypt\",\" Egypt\",\" Egypt\",\" Egypt\",\" Egypt\",\" Egypt\",\" Egypt\",\" Egypt\",\" Egypt\",\" United States\",\" Egypt\",\" Egypt\",\" Egypt\",\" Egypt\",\" Egypt\",\" Egypt\",\" Egypt\",\" Egypt\",\" Egypt\",\" Egypt\",\" Egypt\",\" Egypt\",\" Egypt\",\" Egypt\",\" Egypt\",\" Egypt\",\" Egypt\",\" Egypt\",\" Egypt\",\" Egypt\",\" Egypt\",\" Egypt\",\" Egypt\",\" Egypt\",\" Egypt\",\" Egypt\",\" Egypt\",\" Egypt\",\" Egypt\",\" Egypt\",\" Egypt\",\" Egypt\",\" Egypt\",\" Egypt\",\" Egypt\",\" Egypt\",\" Egypt\",\" Egypt\",\" Egypt\",\" Egypt\",\" Egypt\",\" Egypt\",\" Egypt\",\" Egypt\",\" Egypt\",\" Egypt\",\" Egypt\",\" Egypt\",\" Egypt\",\" Egypt\",\" Egypt\",\" Egypt\",\" Egypt\",\" Egypt\",\" Egypt\",\" Egypt\",\" Egypt\",\" Egypt\",\" Egypt\",\" Egypt\",\" Egypt\",\" Egypt\",\" Egypt\",\" Egypt\",\" Egypt\",\" Egypt\",\" Egypt\",\" Egypt\",\" Egypt\",\" Egypt\",\" Egypt\",\" Egypt\",\" Egypt\",\" Egypt\",\" Egypt\",\" Egypt\",\" Egypt\",\" Egypt\",\" Egypt\",\" Egypt\",\" Egypt\",\" Egypt\",\" Egypt\",\" Egypt\",\" Egypt\",\" Egypt\",\" Egypt\",\" Egypt\",\" Egypt\",\" Egypt\",\" Egypt\",\" Egypt\",\" Egypt\",\" Egypt\",\" Egypt\",\" Egypt\",\" Egypt\",\" Egypt\",\" Egypt\",\" Egypt\",\" Egypt\",\" Egypt\",\" Egypt\",\" Egypt\",\" Egypt\",\" Egypt\",\" Egypt\",\" Egypt\",\" Egypt\",\" Egypt\",\" Egypt\",\" Egypt\",\" Egypt\",\" Egypt\",\" Egypt\",\" Egypt\",\" Egypt\",\" Egypt\",\" Egypt\",\" Egypt\",\" Egypt\",\" Egypt\",\" Egypt\",\" Egypt\",\" Egypt\",\" Egypt\",\" Egypt\",\" Egypt\",\" Egypt\",\" Egypt\",\" Egypt\",\" Egypt\",\" Egypt\",\" Egypt\",\" Egypt\",\" Egypt\",\" Egypt\",\" Egypt\",\" Egypt\",\" Egypt\",\" Egypt\",\" Egypt\",\" Egypt\",\" Egypt\",\" Egypt\",\" Egypt\",\" Egypt\",\" Egypt\",\" Egypt\",\" Egypt\",\" Egypt\",\" Egypt\",\" Egypt\",\" Egypt\",\" Egypt\",\" Egypt\",\" Egypt\",\" Egypt\",\" Egypt\",\" Egypt\",\" Egypt\",\" Egypt\",\" Egypt\",\" Egypt\",\" Egypt\",\" Egypt\",\" Egypt\",\" Egypt\",\" Egypt\",\" Egypt\",\" Egypt\",\" Egypt\",\" Egypt\",\" Egypt\",\" Egypt\",\" Egypt\",\" Egypt\",\" Egypt\",\" Egypt\",\" Egypt\",\" Egypt\",\" Egypt\",\" Egypt\",\" Egypt\",\" Egypt\",\" Egypt\",\" Egypt\",\" Egypt\",\" Egypt\",\" Egypt\",\" Egypt\",\" Egypt\",\" Egypt\",\" Egypt\",\" Egypt\",\" Egypt\",\" Egypt\",\" Egypt\",\" Egypt\"],\"reversescale\":true,\"text\":[\" Egypt\",\" Egypt\",\" Egypt\",\" Egypt\",\" Egypt\",\" Egypt\",\" Egypt\",\" Egypt\",\" Egypt\",\" Egypt\",\" Egypt\",\" Egypt\",\" Egypt\",\" Egypt\",\" Egypt\",\" Egypt\",\" Egypt\",\" Egypt\",\" Egypt\",\" Egypt\",\" Egypt\",\" Egypt\",\" Egypt\",\" Egypt\",\" Egypt\",\" Egypt\",\" Egypt\",\" Egypt\",\" Egypt\",\" Egypt\",\" Egypt\",\" Egypt\",\" Egypt\",\" Egypt\",\" Egypt\",\" Egypt\",\" Egypt\",\" Egypt\",\" Egypt\",\" Egypt\",\" Egypt\",\" Egypt\",\" Egypt\",\" Egypt\",\" Egypt\"],\"z\":[670,6,2,1,1],\"type\":\"choropleth\"}],                        {\"geo\":{\"projection\":{\"type\":\"stereographic\"},\"showframe\":false},\"title\":{\"text\":\"job distribution\"},\"template\":{\"data\":{\"histogram2dcontour\":[{\"type\":\"histogram2dcontour\",\"colorbar\":{\"outlinewidth\":0,\"ticks\":\"\"},\"colorscale\":[[0.0,\"#0d0887\"],[0.1111111111111111,\"#46039f\"],[0.2222222222222222,\"#7201a8\"],[0.3333333333333333,\"#9c179e\"],[0.4444444444444444,\"#bd3786\"],[0.5555555555555556,\"#d8576b\"],[0.6666666666666666,\"#ed7953\"],[0.7777777777777778,\"#fb9f3a\"],[0.8888888888888888,\"#fdca26\"],[1.0,\"#f0f921\"]]}],\"choropleth\":[{\"type\":\"choropleth\",\"colorbar\":{\"outlinewidth\":0,\"ticks\":\"\"}}],\"histogram2d\":[{\"type\":\"histogram2d\",\"colorbar\":{\"outlinewidth\":0,\"ticks\":\"\"},\"colorscale\":[[0.0,\"#0d0887\"],[0.1111111111111111,\"#46039f\"],[0.2222222222222222,\"#7201a8\"],[0.3333333333333333,\"#9c179e\"],[0.4444444444444444,\"#bd3786\"],[0.5555555555555556,\"#d8576b\"],[0.6666666666666666,\"#ed7953\"],[0.7777777777777778,\"#fb9f3a\"],[0.8888888888888888,\"#fdca26\"],[1.0,\"#f0f921\"]]}],\"heatmap\":[{\"type\":\"heatmap\",\"colorbar\":{\"outlinewidth\":0,\"ticks\":\"\"},\"colorscale\":[[0.0,\"#0d0887\"],[0.1111111111111111,\"#46039f\"],[0.2222222222222222,\"#7201a8\"],[0.3333333333333333,\"#9c179e\"],[0.4444444444444444,\"#bd3786\"],[0.5555555555555556,\"#d8576b\"],[0.6666666666666666,\"#ed7953\"],[0.7777777777777778,\"#fb9f3a\"],[0.8888888888888888,\"#fdca26\"],[1.0,\"#f0f921\"]]}],\"heatmapgl\":[{\"type\":\"heatmapgl\",\"colorbar\":{\"outlinewidth\":0,\"ticks\":\"\"},\"colorscale\":[[0.0,\"#0d0887\"],[0.1111111111111111,\"#46039f\"],[0.2222222222222222,\"#7201a8\"],[0.3333333333333333,\"#9c179e\"],[0.4444444444444444,\"#bd3786\"],[0.5555555555555556,\"#d8576b\"],[0.6666666666666666,\"#ed7953\"],[0.7777777777777778,\"#fb9f3a\"],[0.8888888888888888,\"#fdca26\"],[1.0,\"#f0f921\"]]}],\"contourcarpet\":[{\"type\":\"contourcarpet\",\"colorbar\":{\"outlinewidth\":0,\"ticks\":\"\"}}],\"contour\":[{\"type\":\"contour\",\"colorbar\":{\"outlinewidth\":0,\"ticks\":\"\"},\"colorscale\":[[0.0,\"#0d0887\"],[0.1111111111111111,\"#46039f\"],[0.2222222222222222,\"#7201a8\"],[0.3333333333333333,\"#9c179e\"],[0.4444444444444444,\"#bd3786\"],[0.5555555555555556,\"#d8576b\"],[0.6666666666666666,\"#ed7953\"],[0.7777777777777778,\"#fb9f3a\"],[0.8888888888888888,\"#fdca26\"],[1.0,\"#f0f921\"]]}],\"surface\":[{\"type\":\"surface\",\"colorbar\":{\"outlinewidth\":0,\"ticks\":\"\"},\"colorscale\":[[0.0,\"#0d0887\"],[0.1111111111111111,\"#46039f\"],[0.2222222222222222,\"#7201a8\"],[0.3333333333333333,\"#9c179e\"],[0.4444444444444444,\"#bd3786\"],[0.5555555555555556,\"#d8576b\"],[0.6666666666666666,\"#ed7953\"],[0.7777777777777778,\"#fb9f3a\"],[0.8888888888888888,\"#fdca26\"],[1.0,\"#f0f921\"]]}],\"mesh3d\":[{\"type\":\"mesh3d\",\"colorbar\":{\"outlinewidth\":0,\"ticks\":\"\"}}],\"scatter\":[{\"fillpattern\":{\"fillmode\":\"overlay\",\"size\":10,\"solidity\":0.2},\"type\":\"scatter\"}],\"parcoords\":[{\"type\":\"parcoords\",\"line\":{\"colorbar\":{\"outlinewidth\":0,\"ticks\":\"\"}}}],\"scatterpolargl\":[{\"type\":\"scatterpolargl\",\"marker\":{\"colorbar\":{\"outlinewidth\":0,\"ticks\":\"\"}}}],\"bar\":[{\"error_x\":{\"color\":\"#2a3f5f\"},\"error_y\":{\"color\":\"#2a3f5f\"},\"marker\":{\"line\":{\"color\":\"#E5ECF6\",\"width\":0.5},\"pattern\":{\"fillmode\":\"overlay\",\"size\":10,\"solidity\":0.2}},\"type\":\"bar\"}],\"scattergeo\":[{\"type\":\"scattergeo\",\"marker\":{\"colorbar\":{\"outlinewidth\":0,\"ticks\":\"\"}}}],\"scatterpolar\":[{\"type\":\"scatterpolar\",\"marker\":{\"colorbar\":{\"outlinewidth\":0,\"ticks\":\"\"}}}],\"histogram\":[{\"marker\":{\"pattern\":{\"fillmode\":\"overlay\",\"size\":10,\"solidity\":0.2}},\"type\":\"histogram\"}],\"scattergl\":[{\"type\":\"scattergl\",\"marker\":{\"colorbar\":{\"outlinewidth\":0,\"ticks\":\"\"}}}],\"scatter3d\":[{\"type\":\"scatter3d\",\"line\":{\"colorbar\":{\"outlinewidth\":0,\"ticks\":\"\"}},\"marker\":{\"colorbar\":{\"outlinewidth\":0,\"ticks\":\"\"}}}],\"scattermapbox\":[{\"type\":\"scattermapbox\",\"marker\":{\"colorbar\":{\"outlinewidth\":0,\"ticks\":\"\"}}}],\"scatterternary\":[{\"type\":\"scatterternary\",\"marker\":{\"colorbar\":{\"outlinewidth\":0,\"ticks\":\"\"}}}],\"scattercarpet\":[{\"type\":\"scattercarpet\",\"marker\":{\"colorbar\":{\"outlinewidth\":0,\"ticks\":\"\"}}}],\"carpet\":[{\"aaxis\":{\"endlinecolor\":\"#2a3f5f\",\"gridcolor\":\"white\",\"linecolor\":\"white\",\"minorgridcolor\":\"white\",\"startlinecolor\":\"#2a3f5f\"},\"baxis\":{\"endlinecolor\":\"#2a3f5f\",\"gridcolor\":\"white\",\"linecolor\":\"white\",\"minorgridcolor\":\"white\",\"startlinecolor\":\"#2a3f5f\"},\"type\":\"carpet\"}],\"table\":[{\"cells\":{\"fill\":{\"color\":\"#EBF0F8\"},\"line\":{\"color\":\"white\"}},\"header\":{\"fill\":{\"color\":\"#C8D4E3\"},\"line\":{\"color\":\"white\"}},\"type\":\"table\"}],\"barpolar\":[{\"marker\":{\"line\":{\"color\":\"#E5ECF6\",\"width\":0.5},\"pattern\":{\"fillmode\":\"overlay\",\"size\":10,\"solidity\":0.2}},\"type\":\"barpolar\"}],\"pie\":[{\"automargin\":true,\"type\":\"pie\"}]},\"layout\":{\"autotypenumbers\":\"strict\",\"colorway\":[\"#636efa\",\"#EF553B\",\"#00cc96\",\"#ab63fa\",\"#FFA15A\",\"#19d3f3\",\"#FF6692\",\"#B6E880\",\"#FF97FF\",\"#FECB52\"],\"font\":{\"color\":\"#2a3f5f\"},\"hovermode\":\"closest\",\"hoverlabel\":{\"align\":\"left\"},\"paper_bgcolor\":\"white\",\"plot_bgcolor\":\"#E5ECF6\",\"polar\":{\"bgcolor\":\"#E5ECF6\",\"angularaxis\":{\"gridcolor\":\"white\",\"linecolor\":\"white\",\"ticks\":\"\"},\"radialaxis\":{\"gridcolor\":\"white\",\"linecolor\":\"white\",\"ticks\":\"\"}},\"ternary\":{\"bgcolor\":\"#E5ECF6\",\"aaxis\":{\"gridcolor\":\"white\",\"linecolor\":\"white\",\"ticks\":\"\"},\"baxis\":{\"gridcolor\":\"white\",\"linecolor\":\"white\",\"ticks\":\"\"},\"caxis\":{\"gridcolor\":\"white\",\"linecolor\":\"white\",\"ticks\":\"\"}},\"coloraxis\":{\"colorbar\":{\"outlinewidth\":0,\"ticks\":\"\"}},\"colorscale\":{\"sequential\":[[0.0,\"#0d0887\"],[0.1111111111111111,\"#46039f\"],[0.2222222222222222,\"#7201a8\"],[0.3333333333333333,\"#9c179e\"],[0.4444444444444444,\"#bd3786\"],[0.5555555555555556,\"#d8576b\"],[0.6666666666666666,\"#ed7953\"],[0.7777777777777778,\"#fb9f3a\"],[0.8888888888888888,\"#fdca26\"],[1.0,\"#f0f921\"]],\"sequentialminus\":[[0.0,\"#0d0887\"],[0.1111111111111111,\"#46039f\"],[0.2222222222222222,\"#7201a8\"],[0.3333333333333333,\"#9c179e\"],[0.4444444444444444,\"#bd3786\"],[0.5555555555555556,\"#d8576b\"],[0.6666666666666666,\"#ed7953\"],[0.7777777777777778,\"#fb9f3a\"],[0.8888888888888888,\"#fdca26\"],[1.0,\"#f0f921\"]],\"diverging\":[[0,\"#8e0152\"],[0.1,\"#c51b7d\"],[0.2,\"#de77ae\"],[0.3,\"#f1b6da\"],[0.4,\"#fde0ef\"],[0.5,\"#f7f7f7\"],[0.6,\"#e6f5d0\"],[0.7,\"#b8e186\"],[0.8,\"#7fbc41\"],[0.9,\"#4d9221\"],[1,\"#276419\"]]},\"xaxis\":{\"gridcolor\":\"white\",\"linecolor\":\"white\",\"ticks\":\"\",\"title\":{\"standoff\":15},\"zerolinecolor\":\"white\",\"automargin\":true,\"zerolinewidth\":2},\"yaxis\":{\"gridcolor\":\"white\",\"linecolor\":\"white\",\"ticks\":\"\",\"title\":{\"standoff\":15},\"zerolinecolor\":\"white\",\"automargin\":true,\"zerolinewidth\":2},\"scene\":{\"xaxis\":{\"backgroundcolor\":\"#E5ECF6\",\"gridcolor\":\"white\",\"linecolor\":\"white\",\"showbackground\":true,\"ticks\":\"\",\"zerolinecolor\":\"white\",\"gridwidth\":2},\"yaxis\":{\"backgroundcolor\":\"#E5ECF6\",\"gridcolor\":\"white\",\"linecolor\":\"white\",\"showbackground\":true,\"ticks\":\"\",\"zerolinecolor\":\"white\",\"gridwidth\":2},\"zaxis\":{\"backgroundcolor\":\"#E5ECF6\",\"gridcolor\":\"white\",\"linecolor\":\"white\",\"showbackground\":true,\"ticks\":\"\",\"zerolinecolor\":\"white\",\"gridwidth\":2}},\"shapedefaults\":{\"line\":{\"color\":\"#2a3f5f\"}},\"annotationdefaults\":{\"arrowcolor\":\"#2a3f5f\",\"arrowhead\":0,\"arrowwidth\":1},\"geo\":{\"bgcolor\":\"white\",\"landcolor\":\"#E5ECF6\",\"subunitcolor\":\"white\",\"showland\":true,\"showlakes\":true,\"lakecolor\":\"white\"},\"title\":{\"x\":0.05},\"mapbox\":{\"style\":\"light\"}}}},                        {\"responsive\": true}                    ).then(function(){\n",
       "                            \n",
       "var gd = document.getElementById('14672dda-a2fe-4e20-926a-2cb80ffeca8d');\n",
       "var x = new MutationObserver(function (mutations, observer) {{\n",
       "        var display = window.getComputedStyle(gd).display;\n",
       "        if (!display || display === 'none') {{\n",
       "            console.log([gd, 'removed!']);\n",
       "            Plotly.purge(gd);\n",
       "            observer.disconnect();\n",
       "        }}\n",
       "}});\n",
       "\n",
       "// Listen for the removal of the full notebook cells\n",
       "var notebookContainer = gd.closest('#notebook-container');\n",
       "if (notebookContainer) {{\n",
       "    x.observe(notebookContainer, {childList: true});\n",
       "}}\n",
       "\n",
       "// Listen for the clearing of the current output cell\n",
       "var outputEl = gd.closest('.output');\n",
       "if (outputEl) {{\n",
       "    x.observe(outputEl, {childList: true});\n",
       "}}\n",
       "\n",
       "                        })                };                });            </script>        </div>"
      ]
     },
     "metadata": {},
     "output_type": "display_data"
    }
   ],
   "source": [
    "choromap = go.Figure(data = [data],layout = layout)\n",
    "iplot(choromap,validate=False)"
   ]
  },
  {
   "cell_type": "code",
   "execution_count": null,
   "id": "0f99488c",
   "metadata": {},
   "outputs": [],
   "source": []
  }
 ],
 "metadata": {
  "colab": {
   "collapsed_sections": [],
   "provenance": []
  },
  "kernelspec": {
   "display_name": "Python 3 (ipykernel)",
   "language": "python",
   "name": "python3"
  },
  "language_info": {
   "codemirror_mode": {
    "name": "ipython",
    "version": 3
   },
   "file_extension": ".py",
   "mimetype": "text/x-python",
   "name": "python",
   "nbconvert_exporter": "python",
   "pygments_lexer": "ipython3",
   "version": "3.9.7"
  }
 },
 "nbformat": 4,
 "nbformat_minor": 5
}
